{
 "cells": [
  {
   "cell_type": "markdown",
   "id": "f21fbe09",
   "metadata": {},
   "source": [
    "<font color=\"#56a7cf\"><h2><b>Формулы</b></h2></font>"
   ]
  },
  {
   "cell_type": "code",
   "execution_count": 1,
   "id": "1500ceb3",
   "metadata": {},
   "outputs": [],
   "source": [
    "import warnings\n",
    "import pandas as pd\n",
    "import numpy as np\n",
    "import scipy.stats as stats\n",
    "import math\n",
    "from sklearn.linear_model import LinearRegression\n",
    "from statsmodels.stats.multicomp import pairwise_tukeyhsd"
   ]
  },
  {
   "cell_type": "markdown",
   "id": "bc992fae",
   "metadata": {},
   "source": [
    "<font color=\"#56a7cf\"><h2><b>Задача 1</b></h2></font>\n",
    "\n",
    "Провести дисперсионный анализ для определения того, есть ли различия среднего\n",
    "роста среди взрослых футболистов, хоккеистов и штангистов.\n",
    "Даны значения роста в трех группах случайно выбранных спортсменов:\n",
    "Футболисты: 173, 175, 180, 178, 177, 185, 183, 182.\n",
    "Хоккеисты: 177, 179, 180, 188, 177, 172, 171, 184, 180.\n",
    "Штангисты: 172, 173, 169, 177, 166, 180, 178, 177, 172, 166, 170.\n",
    "\n",
    "Вывод: По результатам однофакторого дисперсионного анализа - pvalue=0.01647, что меньше уровня статистической значимости alpha =0.05. Значит рост групп: футболистов, хоккеистов и штангистов, имеет статистические различия.\n",
    "\n",
    "После проведенного Post hoc test Tukey, можем сделать вывод, что между ростом групп:футболистов, хоккеистов - нет статистичесих различий. Средний рост групп в паре футболистов - штангистов и хоккеистов - штангистов - различен"
   ]
  },
  {
   "cell_type": "code",
   "execution_count": 2,
   "id": "0dc23419",
   "metadata": {},
   "outputs": [
    {
     "data": {
      "text/plain": [
       "F_onewayResult(statistic=4.895783441886952, pvalue=0.016475361007895966)"
      ]
     },
     "execution_count": 2,
     "metadata": {},
     "output_type": "execute_result"
    }
   ],
   "source": [
    "#Однофакторный дисперсионный анализ\n",
    "f=np.array([173, 175, 180, 178, 177, 185, 183])\n",
    "h=np.array([177, 179, 180, 188, 177, 172, 171, 184, 180])\n",
    "sh =np.array([172, 173, 169, 177, 166, 180, 178, 177, 172, 166, 170])\n",
    "\n",
    "stats.f_oneway(f,h,sh)"
   ]
  },
  {
   "cell_type": "code",
   "execution_count": 3,
   "id": "21b7180e",
   "metadata": {},
   "outputs": [],
   "source": [
    "#Post hoc test Tukey\n",
    "f=[173, 175, 180, 178, 177, 185, 183]\n",
    "h=[177, 179, 180, 188, 177, 172, 171, 184, 180]\n",
    "sh =[172, 173, 169, 177, 166, 180, 178, 177, 172, 166, 170]\n",
    "\n",
    "df = pd.DataFrame({\"score\": (f+h+sh),\"group\": np.repeat([\"f\",\"h\",\"sh\"], repeats=[len(f),len(h),len(sh)])})"
   ]
  },
  {
   "cell_type": "code",
   "execution_count": 4,
   "id": "ca5f07ea",
   "metadata": {},
   "outputs": [
    {
     "name": "stdout",
     "output_type": "stream",
     "text": [
      " Multiple Comparison of Means - Tukey HSD, FWER=0.05 \n",
      "=====================================================\n",
      "group1 group2 meandiff p-adj   lower    upper  reject\n",
      "-----------------------------------------------------\n",
      "     f      h  -0.0476 0.9998   -6.168  6.0728  False\n",
      "     f     sh   -5.987 0.0451 -11.8589 -0.1151   True\n",
      "     h     sh  -5.9394 0.0311  -11.398 -0.4807   True\n",
      "-----------------------------------------------------\n"
     ]
    }
   ],
   "source": [
    "tukey = pairwise_tukeyhsd(df[\"score\"], df[\"group\"], alpha =0.05)\n",
    "print(tukey)"
   ]
  },
  {
   "cell_type": "code",
   "execution_count": null,
   "id": "524801e8",
   "metadata": {},
   "outputs": [],
   "source": [
    "print(\"test\")"
   ]
  }
 ],
 "metadata": {
  "hide_input": false,
  "kernelspec": {
   "display_name": "Python 3 (ipykernel)",
   "language": "python",
   "name": "python3"
  },
  "language_info": {
   "codemirror_mode": {
    "name": "ipython",
    "version": 3
   },
   "file_extension": ".py",
   "mimetype": "text/x-python",
   "name": "python",
   "nbconvert_exporter": "python",
   "pygments_lexer": "ipython3",
   "version": "3.9.2"
  },
  "toc": {
   "base_numbering": 1,
   "nav_menu": {},
   "number_sections": false,
   "sideBar": true,
   "skip_h1_title": false,
   "title_cell": "Table of Contents",
   "title_sidebar": "Contents",
   "toc_cell": false,
   "toc_position": {},
   "toc_section_display": true,
   "toc_window_display": true
  },
  "varInspector": {
   "cols": {
    "lenName": 16,
    "lenType": 16,
    "lenVar": 40
   },
   "kernels_config": {
    "python": {
     "delete_cmd_postfix": "",
     "delete_cmd_prefix": "del ",
     "library": "var_list.py",
     "varRefreshCmd": "print(var_dic_list())"
    },
    "r": {
     "delete_cmd_postfix": ") ",
     "delete_cmd_prefix": "rm(",
     "library": "var_list.r",
     "varRefreshCmd": "cat(var_dic_list()) "
    }
   },
   "types_to_exclude": [
    "module",
    "function",
    "builtin_function_or_method",
    "instance",
    "_Feature"
   ],
   "window_display": false
  }
 },
 "nbformat": 4,
 "nbformat_minor": 5
}
